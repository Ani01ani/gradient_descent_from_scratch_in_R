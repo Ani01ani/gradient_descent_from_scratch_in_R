{
 "cells": [
  {
   "cell_type": "markdown",
   "metadata": {},
   "source": [
    "### Defining the sigmoid function\n",
    "$sigmoid( w^T x + b) = \\frac{1}{1 + e^{-(w^T x + b)}}$"
   ]
  },
  {
   "cell_type": "code",
   "execution_count": 11,
   "metadata": {
    "collapsed": true
   },
   "outputs": [],
   "source": [
    "sigmoid <- function(x) 1/(1 + exp(-x))"
   ]
  },
  {
   "cell_type": "markdown",
   "metadata": {},
   "source": [
    "#### Forward propagation\n",
    "\n",
    "$A = \\sigma(w^T X + b) = (a^{(0)}, a^{(1)}, ..., a^{(m-1)}, a^{(m)})$\n",
    "\n",
    "cost function: $J = -\\frac{1}{m}\\sum_{i=1}^{m}y^{(i)}\\log(a^{(i)})+(1-y^{(i)})\\log(1-a^{(i)})$\n",
    "\n",
    "#### Backward propagation\n",
    "\n",
    "$$ \\frac{\\partial J}{\\partial w} = \\frac{1}{m}X(A-Y)^T\\tag{1}$$\n",
    "\n",
    "$$ \\frac{\\partial J}{\\partial b} = \\frac{1}{m} \\sum_{i=1}^m (a^{(i)}-y^{(i)})\\tag{2}$$\n",
    "\n",
    "(1) is denoted by ${\\partial w}$ and (2) by ${\\partial b}$ in the code"
   ]
  },
  {
   "cell_type": "code",
   "execution_count": 38,
   "metadata": {},
   "outputs": [],
   "source": [
    "propagate <- function(x, y, w, b) {\n",
    "    m <- nrow(matrix(x))\n",
    "    X <- cbind(1,matrix(x))\n",
    "    theta <- c(b, w)\n",
    "    a <- sigmoid(X%*%theta)\n",
    "    cost <- -(1/m)*sum(y*log(a) + (1-y)*log(1-a))\n",
    "    dw <- (1/m)*t(matrix(x))%*%(matrix(a - y))\n",
    "    db <- (1/m)*sum(a - y)\n",
    "    return(list(cost, dw, db))\n",
    "}"
   ]
  },
  {
   "cell_type": "markdown",
   "metadata": {},
   "source": [
    "#### Optimization Step\n",
    "\n",
    "the update rule is $ \\theta = \\theta - \\alpha \\text{ } d\\theta$, where $\\alpha$ is the learning rate."
   ]
  },
  {
   "cell_type": "code",
   "execution_count": 39,
   "metadata": {},
   "outputs": [],
   "source": [
    "optimize <- function(x, y, w, b, alpha, maxit, print_cost=FALSE) {\n",
    "    for (i in 1:maxit) {\n",
    "        w <- w - alpha*propagate(x, y, w, b)[[2]]\n",
    "        b <- b - alpha*propagate(x, y, w, b)[[3]]\n",
    "        if (print_cost & i %% 100 == 0)\n",
    "            cat('Cost at step',i,'is',propagate(x, y, w, b)[[1]],'\\n')\n",
    "    }\n",
    "    cat('b is',b,'\\n')\n",
    "    cat('w is',w,'\\n')\n",
    "}"
   ]
  },
  {
   "cell_type": "markdown",
   "metadata": {},
   "source": [
    "#### Randomly generate data"
   ]
  },
  {
   "cell_type": "code",
   "execution_count": null,
   "metadata": {
    "collapsed": true
   },
   "outputs": [],
   "source": [
    "x <- runif(1000)\n",
    "y <- ifelse(x + rnorm(1000) > mean(x + rnorm(1000)), 1, 0)"
   ]
  },
  {
   "cell_type": "markdown",
   "metadata": {},
   "source": [
    "#### Run model"
   ]
  },
  {
   "cell_type": "code",
   "execution_count": null,
   "metadata": {},
   "outputs": [],
   "source": [
    "optimize(x, y, 1, 1, 0.01, 50000, print_cost = T)"
   ]
  },
  {
   "cell_type": "code",
   "execution_count": null,
   "metadata": {},
   "outputs": [],
   "source": []
  },
  {
   "cell_type": "code",
   "execution_count": null,
   "metadata": {},
   "outputs": [],
   "source": []
  },
  {
   "cell_type": "code",
   "execution_count": null,
   "metadata": {
    "collapsed": true
   },
   "outputs": [],
   "source": []
  }
 ],
 "metadata": {
  "kernelspec": {
   "display_name": "R",
   "language": "R",
   "name": "ir"
  },
  "language_info": {
   "codemirror_mode": "r",
   "file_extension": ".r",
   "mimetype": "text/x-r-source",
   "name": "R",
   "pygments_lexer": "r",
   "version": "3.4.2"
  }
 },
 "nbformat": 4,
 "nbformat_minor": 2
}
